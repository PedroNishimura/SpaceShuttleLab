{
 "cells": [
  {
   "cell_type": "code",
   "execution_count": 1,
   "id": "85059f66-514d-40d2-8a8c-75280b809d23",
   "metadata": {},
   "outputs": [
    {
     "name": "stdout",
     "output_type": "stream",
     "text": [
      "Requirement already satisfied: schedule in /opt/conda/lib/python3.10/site-packages (1.2.2)\n"
     ]
    }
   ],
   "source": [
    "!pip install schedule"
   ]
  },
  {
   "cell_type": "code",
   "execution_count": 2,
   "id": "ec5fd21e-6698-4251-91d5-78103819138a",
   "metadata": {},
   "outputs": [],
   "source": [
    "%run ../spark_session.ipynb"
   ]
  },
  {
   "cell_type": "code",
   "execution_count": 3,
   "id": "3cac1d7a-091c-4ce4-95d2-5f393c798e92",
   "metadata": {},
   "outputs": [],
   "source": [
    "import time\n",
    "import requests\n",
    "import schedule\n",
    "from pyspark.sql.functions import to_timestamp"
   ]
  },
  {
   "cell_type": "code",
   "execution_count": 4,
   "id": "e1e7763d-35c8-4b72-a33d-a057cc52e555",
   "metadata": {},
   "outputs": [],
   "source": [
    "def job_postgre_position():\n",
    "    print(\"Criando sessão spark e carregando dados /trusted/position\")\n",
    "    spark = get_or_create_session_spark(\"postgre_trusted_position\")\n",
    "    \n",
    "    df = spark.read.format(\"delta\").load(\"s3a://trusted/position\")\n",
    "    df = df.withColumn(\"data_hora\", to_timestamp(\"data_hora\"))\n",
    "    \n",
    "    jdbc_url = \"jdbc:postgresql://db:5432/spacedb\"\n",
    "    properties = {\n",
    "        \"user\": \"spacedb\",\n",
    "        \"password\": \"spacedb\",\n",
    "        \"driver\": \"org.postgresql.Driver\"\n",
    "    }\n",
    "\n",
    "    # Escrever dados no PostgreSQL\n",
    "    df.write.jdbc(url=jdbc_url, table=\"spacedb.position\", mode=\"append\", properties=properties)\n",
    "    spark.stop()\n",
    "\n",
    "    print(\"Dados escritos com sucesso na tabela PostgreSQL!\")"
   ]
  },
  {
   "cell_type": "code",
   "execution_count": null,
   "id": "b857506d-ddf3-428e-a876-d4d2c32ac7cd",
   "metadata": {},
   "outputs": [
    {
     "name": "stdout",
     "output_type": "stream",
     "text": [
      "Criando sessão spark e carregando dados /trusted/position\n",
      "Obtendo sessão spark postgre_trusted_position\n",
      "Sessão Spark obtida com sucesso! postgre_trusted_position\n",
      "Dados escritos com sucesso na tabela PostgreSQL!\n"
     ]
    }
   ],
   "source": [
    "schedule.every(5).minutes.do(job_postgre_position)\n",
    "\n",
    "while True:\n",
    "    schedule.run_pending()\n",
    "    time.sleep(1)"
   ]
  }
 ],
 "metadata": {
  "kernelspec": {
   "display_name": "Python 3 (ipykernel)",
   "language": "python",
   "name": "python3"
  },
  "language_info": {
   "codemirror_mode": {
    "name": "ipython",
    "version": 3
   },
   "file_extension": ".py",
   "mimetype": "text/x-python",
   "name": "python",
   "nbconvert_exporter": "python",
   "pygments_lexer": "ipython3",
   "version": "3.10.8"
  }
 },
 "nbformat": 4,
 "nbformat_minor": 5
}
