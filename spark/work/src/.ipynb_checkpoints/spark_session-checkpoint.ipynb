{
 "cells": [
  {
   "cell_type": "code",
   "execution_count": null,
   "id": "d5b38d5f-e0c0-427c-9e20-480e6030bf84",
   "metadata": {},
   "outputs": [],
   "source": [
    "from pyspark.sql import SparkSession"
   ]
  },
  {
   "cell_type": "code",
   "execution_count": 1,
   "id": "ee71bb64-c7ae-4dfe-8c2d-8dd3fb201efc",
   "metadata": {},
   "outputs": [],
   "source": [
    "def get_or_create_session_spark(session_name):    \n",
    "    try:\n",
    "        \n",
    "        print(f\"Obtendo sessão spark {session_name}\")\n",
    "        spark = SparkSession.builder \\\n",
    "            .appName(session_name) \\\n",
    "            .config(\"spark.jars.packages\", \"org.postgresql:postgresql:42.2.20\") \\\n",
    "            .config(\"spark.jars.packages\", \"io.delta:delta-core_2.12:1.0.0\") \\\n",
    "            .config(\"spark.sql.extensions\", \"io.delta.sql.DeltaSparkSessionExtension\") \\\n",
    "            .config(\"spark.sql.catalog.spark_catalog\", \"org.apache.spark.sql.delta.catalog.DeltaCatalog\") \\\n",
    "            .config(\"spark.hadoop.fs.s3a.access.key\", \"spaceshuttle\") \\\n",
    "            .config(\"spark.hadoop.fs.s3a.secret.key\", \"spaceshuttle\") \\\n",
    "            .config(\"spark.hadoop.fs.s3a.endpoint\", \"http://minio:9000\") \\\n",
    "            .config(\"spark.hadoop.fs.s3a.path.style.access\", \"true\") \\\n",
    "            .config(\"spark.hadoop.fs.s3a.impl\", \"org.apache.hadoop.fs.s3a.S3AFileSystem\") \\\n",
    "            .getOrCreate()\n",
    "            \n",
    "        print(f\"Sessão Spark obtida com sucesso! {session_name}\")\n",
    "        return spark\n",
    "    except Exception as err:\n",
    "        print(f\"Erro spark session: {err}\")\n",
    "        return None"
   ]
  }
 ],
 "metadata": {
  "kernelspec": {
   "display_name": "Python 3 (ipykernel)",
   "language": "python",
   "name": "python3"
  },
  "language_info": {
   "codemirror_mode": {
    "name": "ipython",
    "version": 3
   },
   "file_extension": ".py",
   "mimetype": "text/x-python",
   "name": "python",
   "nbconvert_exporter": "python",
   "pygments_lexer": "ipython3",
   "version": "3.10.8"
  }
 },
 "nbformat": 4,
 "nbformat_minor": 5
}
