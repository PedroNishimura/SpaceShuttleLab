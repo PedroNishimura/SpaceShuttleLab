{
 "cells": [
  {
   "cell_type": "code",
   "execution_count": 1,
   "id": "85059f66-514d-40d2-8a8c-75280b809d23",
   "metadata": {},
   "outputs": [
    {
     "name": "stdout",
     "output_type": "stream",
     "text": [
      "Requirement already satisfied: schedule in /opt/conda/lib/python3.10/site-packages (1.2.2)\n"
     ]
    }
   ],
   "source": [
    "!pip install schedule"
   ]
  },
  {
   "cell_type": "code",
   "execution_count": 2,
   "id": "ec5fd21e-6698-4251-91d5-78103819138a",
   "metadata": {},
   "outputs": [],
   "source": [
    "%run ../spark_session.ipynb"
   ]
  },
  {
   "cell_type": "code",
   "execution_count": 3,
   "id": "3cac1d7a-091c-4ce4-95d2-5f393c798e92",
   "metadata": {},
   "outputs": [],
   "source": [
    "import time\n",
    "import requests\n",
    "import schedule\n",
    "from pyspark.sql.functions import explode, col, to_timestamp"
   ]
  },
  {
   "cell_type": "code",
   "execution_count": 4,
   "id": "fd1881c6-240d-4062-9b5d-b33cf819467e",
   "metadata": {},
   "outputs": [],
   "source": [
    "def explode_data(df):\n",
    "    df = df.withColumn(\"ps\", explode(df.ps))\n",
    "    df = df.withColumn(\"vs\", explode(df.ps.vs))\n",
    "    return df"
   ]
  },
  {
   "cell_type": "code",
   "execution_count": 5,
   "id": "68e3c0d4-1341-49f9-bbf3-a0300e3b7b34",
   "metadata": {},
   "outputs": [],
   "source": [
    "def output_formatter(df):\n",
    "    df = df.withColumnRenamed(\"hr\", \"hora\") \\\n",
    "                  .withColumn(\"codigo_parada\", col(\"ps.cp\")) \\\n",
    "                  .withColumn(\"nome_parada\", col(\"ps.np\")) \\\n",
    "                  .withColumn(\"latitude_parada\", col(\"ps.py\")) \\\n",
    "                  .withColumn(\"longitude_parada\", col(\"ps.px\")) \\\n",
    "                  .withColumn(\"prefixo_veiculo\", col(\"ps.vs.p\")) \\\n",
    "                  .withColumn(\"previsao_chegada_parada\", col(\"ps.vs.t\")) \\\n",
    "                  .withColumn(\"flag_acessivel\", col(\"ps.vs.a\")) \\\n",
    "                  .withColumn(\"data_hora\", col(\"ps.vs.ta\")) \\\n",
    "                  .withColumn(\"latitude_veiculo\", col(\"ps.vs.py\")) \\\n",
    "                  .withColumn(\"longitude_veiculo\", col(\"ps.vs.px\"))\n",
    "    \n",
    "    df = df.withColumn(\"prefixo_veiculo\", explode(col('prefixo_veiculo')))\n",
    "    df = df.withColumn(\"previsao_chegada_parada\", explode(col('previsao_chegada_parada')))\n",
    "    df = df.withColumn(\"flag_acessivel\", explode(col('flag_acessivel')))\n",
    "    df = df.withColumn(\"data_hora\", explode(col('data_hora')))\n",
    "    df = df.withColumn(\"latitude_veiculo\", explode(col('latitude_veiculo')))\n",
    "    df = df.withColumn(\"longitude_veiculo\", explode(col('longitude_veiculo')))\n",
    "    \n",
    "    df = df.withColumn(\"data_hora\", to_timestamp(col('data_hora')))\n",
    "\n",
    "    return df.drop(\"ps\",\"vs\") "
   ]
  },
  {
   "cell_type": "code",
   "execution_count": 6,
   "id": "e1e7763d-35c8-4b72-a33d-a057cc52e555",
   "metadata": {},
   "outputs": [],
   "source": [
    "def job_raw_preview():\n",
    "    print(\"Criando sessão spark e carregando dados /raw/preview\")\n",
    "    spark = get_or_create_session_spark(\"raw_trusted_preview\")\n",
    "    df = spark.read.format(\"delta\").load(\"s3a://raw/preview\")\n",
    "    \n",
    "    print(\"Aplicando tratamentos\")\n",
    "    df = explode_data(df)\n",
    "    df = output_formatter(df)\n",
    "    \n",
    "    print(\"Salvando dados!\")\n",
    "    df.write.format(\"delta\").mode(\"overwrite\").save(\"s3a://trusted/preview\")\n",
    "    \n",
    "    spark.stop()\n",
    "    print(\"Processamento finalizado!\")"
   ]
  },
  {
   "cell_type": "code",
   "execution_count": null,
   "id": "b857506d-ddf3-428e-a876-d4d2c32ac7cd",
   "metadata": {},
   "outputs": [
    {
     "name": "stdout",
     "output_type": "stream",
     "text": [
      "Criando sessão spark e carregando dados /raw/preview\n",
      "Obtendo sessão spark raw_trusted_preview\n",
      "Sessão Spark obtida com sucesso! raw_trusted_preview\n",
      "Aplicando tratamentos\n",
      "Salvando dados!\n",
      "Processamento finalizado!\n"
     ]
    }
   ],
   "source": [
    "schedule.every(5).minutes.do(job_raw_preview)\n",
    "\n",
    "while True:\n",
    "    schedule.run_pending()\n",
    "    time.sleep(1)"
   ]
  }
 ],
 "metadata": {
  "kernelspec": {
   "display_name": "Python 3 (ipykernel)",
   "language": "python",
   "name": "python3"
  },
  "language_info": {
   "codemirror_mode": {
    "name": "ipython",
    "version": 3
   },
   "file_extension": ".py",
   "mimetype": "text/x-python",
   "name": "python",
   "nbconvert_exporter": "python",
   "pygments_lexer": "ipython3",
   "version": "3.10.8"
  }
 },
 "nbformat": 4,
 "nbformat_minor": 5
}
