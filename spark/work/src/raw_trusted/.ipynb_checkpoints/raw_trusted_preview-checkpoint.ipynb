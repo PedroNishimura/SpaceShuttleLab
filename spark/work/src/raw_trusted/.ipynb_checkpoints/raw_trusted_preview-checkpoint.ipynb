{
 "cells": [
  {
   "cell_type": "code",
   "execution_count": 1,
   "id": "85059f66-514d-40d2-8a8c-75280b809d23",
   "metadata": {},
   "outputs": [
    {
     "name": "stdout",
     "output_type": "stream",
     "text": [
      "Requirement already satisfied: schedule in /opt/conda/lib/python3.10/site-packages (1.2.2)\n"
     ]
    }
   ],
   "source": [
    "!pip install schedule"
   ]
  },
  {
   "cell_type": "code",
   "execution_count": 2,
   "id": "ec5fd21e-6698-4251-91d5-78103819138a",
   "metadata": {},
   "outputs": [],
   "source": [
    "%run ../spark_session.ipynb"
   ]
  },
  {
   "cell_type": "code",
   "execution_count": 3,
   "id": "3cac1d7a-091c-4ce4-95d2-5f393c798e92",
   "metadata": {},
   "outputs": [],
   "source": [
    "import time\n",
    "import requests\n",
    "import schedule\n",
    "from pyspark.sql.functions import explode, col, to_timestamp"
   ]
  },
  {
   "cell_type": "code",
   "execution_count": 4,
   "id": "fd1881c6-240d-4062-9b5d-b33cf819467e",
   "metadata": {},
   "outputs": [],
   "source": [
    "def explode_data(df):\n",
    "    df = df.withColumn(\"ps\", explode(df.ps))\n",
    "    df = df.withColumn(\"vs\", explode(df.ps.vs))\n",
    "    return df"
   ]
  },
  {
   "cell_type": "code",
   "execution_count": 5,
   "id": "68e3c0d4-1341-49f9-bbf3-a0300e3b7b34",
   "metadata": {},
   "outputs": [],
   "source": [
    "def output_formatter(df):\n",
    "    df = df.withColumnRenamed(\"hr\", \"hora\") \\\n",
    "                  .withColumn(\"codigo_parada\", col(\"ps.cp\")) \\\n",
    "                  .withColumn(\"nome_parada\", col(\"ps.np\")) \\\n",
    "                  .withColumn(\"latitude_parada\", col(\"ps.py\")) \\\n",
    "                  .withColumn(\"longitude_parada\", col(\"ps.px\")) \\\n",
    "                  .withColumn(\"prefixo_veiculo\", col(\"ps.vs.p\")) \\\n",
    "                  .withColumn(\"previsao_chegada_parada\", col(\"ps.vs.t\")) \\\n",
    "                  .withColumn(\"flag_acessivel\", col(\"ps.vs.a\")) \\\n",
    "                  .withColumn(\"data_hora\", col(\"ps.vs.ta\")) \\\n",
    "                  .withColumn(\"latitude_veiculo\", col(\"ps.vs.py\")) \\\n",
    "                  .withColumn(\"longitude_veiculo\", col(\"ps.vs.px\"))\n",
    "    \n",
    "    df = df.withColumn(\"prefixo_veiculo\", explode(col('prefixo_veiculo')))\n",
    "    df = df.withColumn(\"previsao_chegada_parada\", explode(col('previsao_chegada_parada')))\n",
    "    df = df.withColumn(\"flag_acessivel\", explode(col('flag_acessivel')))\n",
    "    df = df.withColumn(\"data_hora\", explode(col('data_hora')))\n",
    "    df = df.withColumn(\"latitude_veiculo\", explode(col('latitude_veiculo')))\n",
    "    df = df.withColumn(\"longitude_veiculo\", explode(col('longitude_veiculo')))\n",
    "    \n",
    "    df = df.withColumn(\"data_hora\", to_timestamp(col('data_hora')))\n",
    "\n",
    "    return df.drop(\"ps\",\"vs\") "
   ]
  },
  {
   "cell_type": "code",
   "execution_count": 6,
   "id": "e1e7763d-35c8-4b72-a33d-a057cc52e555",
   "metadata": {},
   "outputs": [],
   "source": [
    "def job_raw_preview():\n",
    "    print(\"Criando sessão spark e carregando dados /raw/prev\")\n",
    "    spark = get_or_create_session_spark(\"raw_trusted_prev\")\n",
    "    df = spark.read.json(\"s3a://raw/prev\")\n",
    "    try:\n",
    "        print(\"Aplicando tratamentos\")\n",
    "        df = explode_data(df)\n",
    "        df = output_formatter(df)\n",
    "        \n",
    "        print(\"Salvando dados!\")\n",
    "        df.write.format(\"delta\").mode(\"overwrite\").save(\"s3a://trusted/prev\")\n",
    "    except Exception as e:\n",
    "        print(f\"Erro ao transformar os dados \\n {e}\")\n",
    "\n",
    "    spark.stop()\n",
    "    print(\"Processamento finalizado!\")"
   ]
  },
  {
   "cell_type": "code",
   "execution_count": 7,
   "id": "b857506d-ddf3-428e-a876-d4d2c32ac7cd",
   "metadata": {},
   "outputs": [],
   "source": [
    "# schedule.every(5).minutes.do(job_raw_preview)\n",
    "\n",
    "# while True:\n",
    "#     schedule.run_pending()\n",
    "#     time.sleep(1)"
   ]
  },
  {
   "cell_type": "code",
   "execution_count": 8,
   "id": "78a89125-3235-4b42-9a34-6f156508ae17",
   "metadata": {},
   "outputs": [
    {
     "name": "stdout",
     "output_type": "stream",
     "text": [
      "Criando sessão spark e carregando dados /raw/prev\n",
      "Obtendo sessão spark raw_trusted_prev\n",
      "Sessão Spark obtida com sucesso! raw_trusted_prev\n",
      "Aplicando tratamentos\n",
      "Erro ao transformar os dados \n",
      " cannot resolve 'ps.`vs`['p']' due to data type mismatch: argument 2 requires integral type, however, ''p'' is of string type.;\n",
      "'Project [hora#22, ps#13, vs#18, codigo_parada#26L, nome_parada#32, latitude_parada#39, longitude_parada#47, ps#13.vs[p] AS prefixo_veiculo#56]\n",
      "+- Project [hora#22, ps#13, vs#18, codigo_parada#26L, nome_parada#32, latitude_parada#39, ps#13.px AS longitude_parada#47]\n",
      "   +- Project [hora#22, ps#13, vs#18, codigo_parada#26L, nome_parada#32, ps#13.py AS latitude_parada#39]\n",
      "      +- Project [hora#22, ps#13, vs#18, codigo_parada#26L, ps#13.np AS nome_parada#32]\n",
      "         +- Project [hora#22, ps#13, vs#18, ps#13.cp AS codigo_parada#26L]\n",
      "            +- Project [hr#8 AS hora#22, ps#13, vs#18]\n",
      "               +- Project [hr#8, ps#13, vs#18]\n",
      "                  +- Generate explode(ps#13.vs), false, [vs#18]\n",
      "                     +- Project [hr#8, ps#13]\n",
      "                        +- Generate explode(ps#9), false, [ps#13]\n",
      "                           +- Relation [hr#8,ps#9] json\n",
      "\n",
      "Processamento finalizado!\n"
     ]
    }
   ],
   "source": [
    "job_raw_preview()"
   ]
  }
 ],
 "metadata": {
  "kernelspec": {
   "display_name": "Python 3 (ipykernel)",
   "language": "python",
   "name": "python3"
  },
  "language_info": {
   "codemirror_mode": {
    "name": "ipython",
    "version": 3
   },
   "file_extension": ".py",
   "mimetype": "text/x-python",
   "name": "python",
   "nbconvert_exporter": "python",
   "pygments_lexer": "ipython3",
   "version": "3.10.8"
  }
 },
 "nbformat": 4,
 "nbformat_minor": 5
}
