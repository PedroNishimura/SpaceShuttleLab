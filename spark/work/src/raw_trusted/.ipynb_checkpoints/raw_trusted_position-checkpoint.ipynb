{
 "cells": [
  {
   "cell_type": "code",
   "execution_count": 1,
   "id": "85059f66-514d-40d2-8a8c-75280b809d23",
   "metadata": {},
   "outputs": [
    {
     "name": "stdout",
     "output_type": "stream",
     "text": [
      "Requirement already satisfied: schedule in /opt/conda/lib/python3.10/site-packages (1.2.2)\n"
     ]
    }
   ],
   "source": [
    "!pip install schedule"
   ]
  },
  {
   "cell_type": "code",
   "execution_count": 2,
   "id": "ec5fd21e-6698-4251-91d5-78103819138a",
   "metadata": {},
   "outputs": [],
   "source": [
    "%run ../spark_session.ipynb"
   ]
  },
  {
   "cell_type": "code",
   "execution_count": 3,
   "id": "3cac1d7a-091c-4ce4-95d2-5f393c798e92",
   "metadata": {},
   "outputs": [],
   "source": [
    "import time\n",
    "import requests\n",
    "import schedule\n",
    "from pyspark.sql.functions import explode, col"
   ]
  },
  {
   "cell_type": "code",
   "execution_count": 4,
   "id": "fd1881c6-240d-4062-9b5d-b33cf819467e",
   "metadata": {},
   "outputs": [],
   "source": [
    "def explode_data(df):\n",
    "    df = df.withColumn(\"l\", explode(df.l))\n",
    "    return df.withColumn(\"vs\", explode(df.l.vs))"
   ]
  },
  {
   "cell_type": "code",
   "execution_count": 5,
   "id": "68e3c0d4-1341-49f9-bbf3-a0300e3b7b34",
   "metadata": {},
   "outputs": [],
   "source": [
    "def output_formatter(df):\n",
    "    df = df.withColumnRenamed(\"hr\", \"hora\") \\\n",
    "                  .withColumn(\"codigo_empresa\", col(\"l.c\")) \\\n",
    "                  .withColumn(\"codigo_linha\", col(\"l.cl\")) \\\n",
    "                  .withColumn(\"sentido_operacao\", col(\"l.sl\")) \\\n",
    "                  .withColumn(\"destino_linha\", col(\"l.lt0\")) \\\n",
    "                  .withColumn(\"origem_linha\", col(\"l.lt1\")) \\\n",
    "                  .withColumn(\"veiculos_circulacao\", col(\"l.qv\")) \\\n",
    "                  .withColumn(\"prefixo_veiculo\", col(\"vs.p\")) \\\n",
    "                  .withColumn(\"flag_acessivel\", col(\"vs.a\")) \\\n",
    "                  .withColumn(\"data_hora\", col(\"vs.ta\")) \\\n",
    "                  .withColumn(\"latitude\", col(\"vs.py\")) \\\n",
    "                  .withColumn(\"longitude\", col(\"vs.px\"))\n",
    "\n",
    "    return df.drop(\"l\",\"vs\") "
   ]
  },
  {
   "cell_type": "code",
   "execution_count": 6,
   "id": "e1e7763d-35c8-4b72-a33d-a057cc52e555",
   "metadata": {},
   "outputs": [],
   "source": [
    "def job_raw_position():\n",
    "    print(\"Criando sessão spark e carregando dados /raw/position\")\n",
    "    spark = get_or_create_session_spark(\"raw_trusted_position\")\n",
    "    df = spark.read.json(\"s3a://raw/position\")\n",
    "\n",
    "    print(\"Aplicando tratamentos\")\n",
    "    df = explode_data(df)\n",
    "    df = output_formatter(df)\n",
    "    \n",
    "    print(\"Salvando dados! /trusted/position\")\n",
    "    df.write.format(\"delta\").mode(\"overwrite\").save(\"s3a://trusted/position\")\n",
    "    \n",
    "    spark.stop()\n",
    "    print(\"Processamento finalizado!\")"
   ]
  },
  {
   "cell_type": "code",
   "execution_count": 7,
   "id": "b857506d-ddf3-428e-a876-d4d2c32ac7cd",
   "metadata": {},
   "outputs": [],
   "source": [
    "# schedule.every(1).minutes.do(job_raw_position)\n",
    "\n",
    "# while True:\n",
    "#     schedule.run_pending()\n",
    "#     time.sleep(1)"
   ]
  },
  {
   "cell_type": "code",
   "execution_count": 8,
   "id": "d277c60a-5a11-4fcc-9c81-011e4fadbf39",
   "metadata": {},
   "outputs": [
    {
     "name": "stdout",
     "output_type": "stream",
     "text": [
      "Criando sessão spark e carregando dados /raw/position\n",
      "Obtendo sessão spark raw_trusted_position\n",
      "Sessão Spark obtida com sucesso! raw_trusted_position\n",
      "Aplicando tratamentos\n",
      "Salvando dados! /trusted/position\n",
      "Processamento finalizado!\n"
     ]
    }
   ],
   "source": [
    "job_raw_position()"
   ]
  }
 ],
 "metadata": {
  "kernelspec": {
   "display_name": "Python 3 (ipykernel)",
   "language": "python",
   "name": "python3"
  },
  "language_info": {
   "codemirror_mode": {
    "name": "ipython",
    "version": 3
   },
   "file_extension": ".py",
   "mimetype": "text/x-python",
   "name": "python",
   "nbconvert_exporter": "python",
   "pygments_lexer": "ipython3",
   "version": "3.10.8"
  }
 },
 "nbformat": 4,
 "nbformat_minor": 5
}
