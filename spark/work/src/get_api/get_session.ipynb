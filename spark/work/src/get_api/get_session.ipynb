{
 "cells": [
  {
   "cell_type": "code",
   "execution_count": 1,
   "id": "51e7b491-01fc-423f-b4d6-94d545500483",
   "metadata": {},
   "outputs": [],
   "source": [
    "import requests"
   ]
  },
  {
   "cell_type": "code",
   "execution_count": 3,
   "id": "653f4d5b-4616-4b79-a651-fb34326c04e4",
   "metadata": {},
   "outputs": [],
   "source": [
    "def auth_session_api():\n",
    "    url = 'http://api.olhovivo.sptrans.com.br/v2.1/Login/Autenticar'\n",
    "    apikey = {'token': \"4878e23ec08fc0d75b1f6c39301e58c8c3a741b5f21dd1221ebacf87225e1cf5\"} \n",
    "    session = requests.session()\n",
    "    session.post(url, params=apikey)\n",
    "    return session"
   ]
  }
 ],
 "metadata": {
  "kernelspec": {
   "display_name": "Python 3 (ipykernel)",
   "language": "python",
   "name": "python3"
  },
  "language_info": {
   "codemirror_mode": {
    "name": "ipython",
    "version": 3
   },
   "file_extension": ".py",
   "mimetype": "text/x-python",
   "name": "python",
   "nbconvert_exporter": "python",
   "pygments_lexer": "ipython3",
   "version": "3.10.8"
  }
 },
 "nbformat": 4,
 "nbformat_minor": 5
}
