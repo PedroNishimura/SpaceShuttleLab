{
 "cells": [
  {
   "cell_type": "code",
   "execution_count": 1,
   "id": "28577104-f85d-49fe-b8da-bb77afd9a26d",
   "metadata": {},
   "outputs": [
    {
     "name": "stdout",
     "output_type": "stream",
     "text": [
      "Requirement already satisfied: schedule in /opt/conda/lib/python3.10/site-packages (1.2.2)\n"
     ]
    }
   ],
   "source": [
    "!pip install schedule"
   ]
  },
  {
   "cell_type": "code",
   "execution_count": 2,
   "id": "4b7ab174-0a69-4c14-a131-16180aa4e9a2",
   "metadata": {},
   "outputs": [],
   "source": [
    "%run ./get_session.ipynb"
   ]
  },
  {
   "cell_type": "code",
   "execution_count": 3,
   "id": "e041ac5d-b838-42d2-b52b-ed6b543ef294",
   "metadata": {},
   "outputs": [],
   "source": [
    "%run ../spark_session.ipynb"
   ]
  },
  {
   "cell_type": "code",
   "execution_count": 4,
   "id": "610ae26d-ae85-411b-b7f8-f640739770ca",
   "metadata": {},
   "outputs": [],
   "source": [
    "import time\n",
    "import requests\n",
    "import schedule"
   ]
  },
  {
   "cell_type": "code",
   "execution_count": 5,
   "id": "26591c62-7393-4199-b770-347790ad9eb2",
   "metadata": {},
   "outputs": [],
   "source": [
    "def job_preview_32776():\n",
    "    print(\"Realizando requisição  Linha?codigoLinha=32776\")\n",
    "    response = session_api.get('http://api.olhovivo.sptrans.com.br/v2.1/Previsao/Linha?codigoLinha=32776')\n",
    "    \n",
    "    print(\"Dados capturados! Salvando na base /raw/preview\")\n",
    "    spark = get_or_create_session_spark(\"get_api_preview\")\n",
    "    json_rdd = spark.sparkContext.parallelize([response.text])\n",
    "    df = spark.read.json(json_rdd)\n",
    "    print(\"Processamento finalizado!\")\n",
    "    \n",
    "    df.write.format(\"delta\").mode(\"append\").save(\"s3a://raw/preview\")  "
   ]
  },
  {
   "cell_type": "code",
   "execution_count": 6,
   "id": "0cacaa41-e308-45dd-a533-76f25c064a9f",
   "metadata": {},
   "outputs": [],
   "source": [
    "def job_preview_32869():\n",
    "    print(\"Realizando requisição  Linha?codigoLinha=32869\")\n",
    "    response = session_api.get('http://api.olhovivo.sptrans.com.br/v2.1/Previsao/Linha?codigoLinha=32869')\n",
    "\n",
    "    print(\"Dados capturados! Salvando na base /raw/preview\")\n",
    "    spark = get_or_create_session_spark(\"get_api_preview\")\n",
    "    json_rdd = spark.sparkContext.parallelize([response.text])\n",
    "    df = spark.read.json(json_rdd)\n",
    "\n",
    "    df.write.format(\"delta\").mode(\"append\").save(\"s3a://raw/preview\")  \n",
    "    print(\"Processamento finalizado!\")    \n",
    "    spark.stop()"
   ]
  },
  {
   "cell_type": "code",
   "execution_count": 7,
   "id": "a0bf3033-5bc4-4b41-8d45-d0ea8e94c753",
   "metadata": {},
   "outputs": [],
   "source": [
    "def job_preview():\n",
    "    job_preview_32776()\n",
    "    job_preview_32869()"
   ]
  },
  {
   "cell_type": "code",
   "execution_count": 8,
   "id": "5175f675-adbf-4f31-bd1e-ba821cb85988",
   "metadata": {},
   "outputs": [
    {
     "name": "stdout",
     "output_type": "stream",
     "text": [
      "Autenticando na API\n"
     ]
    }
   ],
   "source": [
    "print(\"Autenticando na API\")\n",
    "session_api = auth_session_api()"
   ]
  },
  {
   "cell_type": "code",
   "execution_count": 9,
   "id": "5c2c8b8b-73ac-4147-bd75-a6b4d233a544",
   "metadata": {},
   "outputs": [
    {
     "name": "stdout",
     "output_type": "stream",
     "text": [
      "Realizando requisição  Linha?codigoLinha=32776\n",
      "Dados capturados! Salvando na base /raw/preview\n",
      "Obtendo sessão spark get_api_preview\n",
      "Sessão Spark obtida com sucesso! get_api_preview\n",
      "Processamento finalizado!\n",
      "Realizando requisição  Linha?codigoLinha=32869\n",
      "Dados capturados! Salvando na base /raw/preview\n",
      "Obtendo sessão spark get_api_preview\n",
      "Sessão Spark obtida com sucesso! get_api_preview\n",
      "Processamento finalizado!\n",
      "Realizando requisição  Linha?codigoLinha=32776\n",
      "Dados capturados! Salvando na base /raw/preview\n",
      "Obtendo sessão spark get_api_preview\n",
      "Sessão Spark obtida com sucesso! get_api_preview\n",
      "Processamento finalizado!\n",
      "Realizando requisição  Linha?codigoLinha=32869\n",
      "Dados capturados! Salvando na base /raw/preview\n",
      "Obtendo sessão spark get_api_preview\n",
      "Sessão Spark obtida com sucesso! get_api_preview\n",
      "Processamento finalizado!\n"
     ]
    },
    {
     "ename": "AttributeError",
     "evalue": "'NoneType' object has no attribute 'sc'",
     "output_type": "error",
     "traceback": [
      "\u001b[0;31m---------------------------------------------------------------------------\u001b[0m",
      "\u001b[0;31mAttributeError\u001b[0m                            Traceback (most recent call last)",
      "Cell \u001b[0;32mIn[9], line 5\u001b[0m\n\u001b[1;32m      3\u001b[0m \u001b[38;5;28;01mwhile\u001b[39;00m \u001b[38;5;28;01mTrue\u001b[39;00m:\n\u001b[1;32m      4\u001b[0m     schedule\u001b[38;5;241m.\u001b[39mrun_pending()\n\u001b[0;32m----> 5\u001b[0m     \u001b[43mtime\u001b[49m\u001b[38;5;241;43m.\u001b[39;49m\u001b[43msleep\u001b[49m\u001b[43m(\u001b[49m\u001b[38;5;241;43m1\u001b[39;49m\u001b[43m)\u001b[49m\n",
      "File \u001b[0;32m/usr/local/spark/python/pyspark/context.py:362\u001b[0m, in \u001b[0;36mSparkContext._do_init.<locals>.signal_handler\u001b[0;34m(signal, frame)\u001b[0m\n\u001b[1;32m    361\u001b[0m \u001b[38;5;28;01mdef\u001b[39;00m \u001b[38;5;21msignal_handler\u001b[39m(signal: Any, frame: Any) \u001b[38;5;241m-\u001b[39m\u001b[38;5;241m>\u001b[39m NoReturn:\n\u001b[0;32m--> 362\u001b[0m     \u001b[38;5;28;43mself\u001b[39;49m\u001b[38;5;241;43m.\u001b[39;49m\u001b[43mcancelAllJobs\u001b[49m\u001b[43m(\u001b[49m\u001b[43m)\u001b[49m\n\u001b[1;32m    363\u001b[0m     \u001b[38;5;28;01mraise\u001b[39;00m \u001b[38;5;167;01mKeyboardInterrupt\u001b[39;00m()\n",
      "File \u001b[0;32m/usr/local/spark/python/pyspark/context.py:1447\u001b[0m, in \u001b[0;36mSparkContext.cancelAllJobs\u001b[0;34m(self)\u001b[0m\n\u001b[1;32m   1443\u001b[0m \u001b[38;5;28;01mdef\u001b[39;00m \u001b[38;5;21mcancelAllJobs\u001b[39m(\u001b[38;5;28mself\u001b[39m) \u001b[38;5;241m-\u001b[39m\u001b[38;5;241m>\u001b[39m \u001b[38;5;28;01mNone\u001b[39;00m:\n\u001b[1;32m   1444\u001b[0m \u001b[38;5;250m    \u001b[39m\u001b[38;5;124;03m\"\"\"\u001b[39;00m\n\u001b[1;32m   1445\u001b[0m \u001b[38;5;124;03m    Cancel all jobs that have been scheduled or are running.\u001b[39;00m\n\u001b[1;32m   1446\u001b[0m \u001b[38;5;124;03m    \"\"\"\u001b[39;00m\n\u001b[0;32m-> 1447\u001b[0m     \u001b[38;5;28;43mself\u001b[39;49m\u001b[38;5;241;43m.\u001b[39;49m\u001b[43m_jsc\u001b[49m\u001b[38;5;241;43m.\u001b[39;49m\u001b[43msc\u001b[49m()\u001b[38;5;241m.\u001b[39mcancelAllJobs()\n",
      "\u001b[0;31mAttributeError\u001b[0m: 'NoneType' object has no attribute 'sc'"
     ]
    }
   ],
   "source": [
    "schedule.every(5).minutes.do(job_preview)\n",
    "\n",
    "while True:\n",
    "    schedule.run_pending()\n",
    "    time.sleep(1)"
   ]
  }
 ],
 "metadata": {
  "kernelspec": {
   "display_name": "Python 3 (ipykernel)",
   "language": "python",
   "name": "python3"
  },
  "language_info": {
   "codemirror_mode": {
    "name": "ipython",
    "version": 3
   },
   "file_extension": ".py",
   "mimetype": "text/x-python",
   "name": "python",
   "nbconvert_exporter": "python",
   "pygments_lexer": "ipython3",
   "version": "3.10.8"
  }
 },
 "nbformat": 4,
 "nbformat_minor": 5
}
