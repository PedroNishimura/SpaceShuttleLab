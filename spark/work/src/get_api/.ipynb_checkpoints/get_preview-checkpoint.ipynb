{
 "cells": [
  {
   "cell_type": "code",
   "execution_count": 1,
   "id": "28577104-f85d-49fe-b8da-bb77afd9a26d",
   "metadata": {},
   "outputs": [
    {
     "name": "stdout",
     "output_type": "stream",
     "text": [
      "Requirement already satisfied: schedule in /opt/conda/lib/python3.10/site-packages (1.2.2)\n"
     ]
    }
   ],
   "source": [
    "!pip install schedule"
   ]
  },
  {
   "cell_type": "code",
   "execution_count": 2,
   "id": "4b7ab174-0a69-4c14-a131-16180aa4e9a2",
   "metadata": {},
   "outputs": [],
   "source": [
    "%run ./get_session.ipynb"
   ]
  },
  {
   "cell_type": "code",
   "execution_count": 3,
   "id": "e041ac5d-b838-42d2-b52b-ed6b543ef294",
   "metadata": {},
   "outputs": [],
   "source": [
    "%run ../spark_session.ipynb"
   ]
  },
  {
   "cell_type": "code",
   "execution_count": 4,
   "id": "610ae26d-ae85-411b-b7f8-f640739770ca",
   "metadata": {},
   "outputs": [],
   "source": [
    "import time\n",
    "import requests\n",
    "import schedule"
   ]
  },
  {
   "cell_type": "code",
   "execution_count": 5,
   "id": "26591c62-7393-4199-b770-347790ad9eb2",
   "metadata": {},
   "outputs": [],
   "source": [
    "def job_preview_32776():\n",
    "    print(\"Realizando requisição  Linha?codigoLinha=32776\")\n",
    "    response = session_api.get('http://api.olhovivo.sptrans.com.br/v2.1/Previsao/Linha?codigoLinha=32776')\n",
    "    \n",
    "    print(\"Dados capturados! Salvando na base /raw/preview\")\n",
    "    spark = get_or_create_session_spark(\"get_api_preview\")\n",
    "    json_rdd = spark.sparkContext.parallelize([response.text])\n",
    "    df = spark.read.json(json_rdd)\n",
    "    print(\"Processamento finalizado!\")\n",
    "    \n",
    "    df.write.format(\"delta\").mode(\"append\").save(\"s3a://raw/preview\")  "
   ]
  },
  {
   "cell_type": "code",
   "execution_count": 6,
   "id": "0cacaa41-e308-45dd-a533-76f25c064a9f",
   "metadata": {},
   "outputs": [],
   "source": [
    "def job_preview_32869():\n",
    "    print(\"Realizando requisição  Linha?codigoLinha=32869\")\n",
    "    response = session_api.get('http://api.olhovivo.sptrans.com.br/v2.1/Previsao/Linha?codigoLinha=32869')\n",
    "\n",
    "    print(\"Dados capturados! Salvando na base /raw/preview\")\n",
    "    spark = get_or_create_session_spark(\"get_api_preview\")\n",
    "    json_rdd = spark.sparkContext.parallelize([response.text])\n",
    "    df = spark.read.json(json_rdd)\n",
    "\n",
    "    df.write.format(\"delta\").mode(\"append\").save(\"s3a://raw/preview\")  \n",
    "    print(\"Processamento finalizado!\")    \n",
    "    spark.stop()"
   ]
  },
  {
   "cell_type": "code",
   "execution_count": 7,
   "id": "a0bf3033-5bc4-4b41-8d45-d0ea8e94c753",
   "metadata": {},
   "outputs": [],
   "source": [
    "def job_preview():\n",
    "    job_preview_32776()\n",
    "    job_preview_32869()"
   ]
  },
  {
   "cell_type": "code",
   "execution_count": 8,
   "id": "5175f675-adbf-4f31-bd1e-ba821cb85988",
   "metadata": {},
   "outputs": [
    {
     "name": "stdout",
     "output_type": "stream",
     "text": [
      "Autenticando na API\n"
     ]
    }
   ],
   "source": [
    "print(\"Autenticando na API\")\n",
    "session_api = auth_session_api()"
   ]
  },
  {
   "cell_type": "code",
   "execution_count": null,
   "id": "5c2c8b8b-73ac-4147-bd75-a6b4d233a544",
   "metadata": {},
   "outputs": [
    {
     "name": "stdout",
     "output_type": "stream",
     "text": [
      "Realizando requisição  Linha?codigoLinha=32776\n",
      "Dados capturados! Salvando na base /raw/preview\n",
      "Obtendo sessão spark get_api_preview\n",
      "Sessão Spark obtida com sucesso! get_api_preview\n",
      "Processamento finalizado!\n",
      "Realizando requisição  Linha?codigoLinha=32869\n",
      "Dados capturados! Salvando na base /raw/preview\n",
      "Obtendo sessão spark get_api_preview\n",
      "Sessão Spark obtida com sucesso! get_api_preview\n",
      "Processamento finalizado!\n"
     ]
    }
   ],
   "source": [
    "schedule.every(5).minutes.do(job_preview)\n",
    "\n",
    "while True:\n",
    "    schedule.run_pending()\n",
    "    time.sleep(1)"
   ]
  }
 ],
 "metadata": {
  "kernelspec": {
   "display_name": "Python 3 (ipykernel)",
   "language": "python",
   "name": "python3"
  },
  "language_info": {
   "codemirror_mode": {
    "name": "ipython",
    "version": 3
   },
   "file_extension": ".py",
   "mimetype": "text/x-python",
   "name": "python",
   "nbconvert_exporter": "python",
   "pygments_lexer": "ipython3",
   "version": "3.10.8"
  }
 },
 "nbformat": 4,
 "nbformat_minor": 5
}
