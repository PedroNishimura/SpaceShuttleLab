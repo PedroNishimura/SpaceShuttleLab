{
 "cells": [
  {
   "cell_type": "code",
   "execution_count": 1,
   "id": "28577104-f85d-49fe-b8da-bb77afd9a26d",
   "metadata": {},
   "outputs": [
    {
     "name": "stdout",
     "output_type": "stream",
     "text": [
      "Requirement already satisfied: schedule in /opt/conda/lib/python3.10/site-packages (1.2.2)\n"
     ]
    }
   ],
   "source": [
    "!pip install schedule"
   ]
  },
  {
   "cell_type": "code",
   "execution_count": 2,
   "id": "4b7ab174-0a69-4c14-a131-16180aa4e9a2",
   "metadata": {},
   "outputs": [],
   "source": [
    "%run ./get_session.ipynb"
   ]
  },
  {
   "cell_type": "code",
   "execution_count": 3,
   "id": "e041ac5d-b838-42d2-b52b-ed6b543ef294",
   "metadata": {},
   "outputs": [],
   "source": [
    "%run ../spark_session.ipynb"
   ]
  },
  {
   "cell_type": "code",
   "execution_count": 4,
   "id": "610ae26d-ae85-411b-b7f8-f640739770ca",
   "metadata": {},
   "outputs": [],
   "source": [
    "import time\n",
    "import requests\n",
    "import schedule"
   ]
  },
  {
   "cell_type": "code",
   "execution_count": 5,
   "id": "26591c62-7393-4199-b770-347790ad9eb2",
   "metadata": {},
   "outputs": [],
   "source": [
    "def job_position():\n",
    "    print(\"Realizando requisição  /Posicao\")\n",
    "    session_api = auth_session_api()\n",
    "    response = session_api.get('http://api.olhovivo.sptrans.com.br/v2.1/Posicao')\n",
    "\n",
    "    print(\"Dados capturados! Salvando na base /raw/position\")\n",
    "    spark = get_or_create_session_spark(\"get_api_position\")\n",
    "    json_rdd = spark.sparkContext.parallelize([response.text])\n",
    "    df = spark.read.json(json_rdd)\n",
    "    \n",
    "    df.write.format(\"delta\").mode(\"append\").save(\"s3a://raw/position\")\n",
    "    print(\"Processamento finalizado!\")\n",
    "    spark.stop()"
   ]
  },
  {
   "cell_type": "code",
   "execution_count": 6,
   "id": "191947ec-1e4b-4474-8c75-738a570cd167",
   "metadata": {},
   "outputs": [
    {
     "name": "stdout",
     "output_type": "stream",
     "text": [
      "Autenticando na API\n"
     ]
    }
   ],
   "source": [
    "print(\"Autenticando na API\")\n",
    "session_api = auth_session_api()"
   ]
  },
  {
   "cell_type": "code",
   "execution_count": null,
   "id": "5c2c8b8b-73ac-4147-bd75-a6b4d233a544",
   "metadata": {},
   "outputs": [
    {
     "name": "stdout",
     "output_type": "stream",
     "text": [
      "Realizando requisição  /Posicao\n",
      "Dados capturados! Salvando na base /raw/position\n",
      "Obtendo sessão spark get_api_position\n",
      "Sessão Spark obtida com sucesso! get_api_position\n",
      "Processamento finalizado!\n"
     ]
    }
   ],
   "source": [
    "schedule.every(5).minutes.do(job_position)\n",
    "\n",
    "while True:\n",
    "    schedule.run_pending()\n",
    "    time.sleep(1)"
   ]
  }
 ],
 "metadata": {
  "kernelspec": {
   "display_name": "Python 3 (ipykernel)",
   "language": "python",
   "name": "python3"
  },
  "language_info": {
   "codemirror_mode": {
    "name": "ipython",
    "version": 3
   },
   "file_extension": ".py",
   "mimetype": "text/x-python",
   "name": "python",
   "nbconvert_exporter": "python",
   "pygments_lexer": "ipython3",
   "version": "3.10.8"
  }
 },
 "nbformat": 4,
 "nbformat_minor": 5
}
