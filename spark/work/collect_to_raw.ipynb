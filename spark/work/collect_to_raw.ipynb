{
 "cells": [
  {
   "cell_type": "code",
   "execution_count": 1,
   "id": "3dbbc75d-8c40-42df-8006-4deaca0b451a",
   "metadata": {},
   "outputs": [
    {
     "name": "stdout",
     "output_type": "stream",
     "text": [
      "Requirement already satisfied: schedule in /opt/conda/lib/python3.10/site-packages (1.2.2)\n"
     ]
    }
   ],
   "source": [
    "!pip install schedule"
   ]
  },
  {
   "cell_type": "code",
   "execution_count": 2,
   "id": "0043beb3-2f29-4c62-b6a1-4627f9db4e7e",
   "metadata": {},
   "outputs": [],
   "source": [
    "import json\n",
    "import time\n",
    "import pyspark\n",
    "import schedule\n",
    "import requests\n",
    "from pyspark.sql import SparkSession\n",
    "from pyspark.sql.functions import explode, col, from_json\n",
    "from pyspark.sql.types import StructType, StructField, MapType, StringType"
   ]
  },
  {
   "cell_type": "code",
   "execution_count": 3,
   "id": "2d73aacb-5002-480d-aa1b-6742c9703a74",
   "metadata": {},
   "outputs": [],
   "source": [
    "def init_spark_session():    \n",
    "    try:\n",
    "        spark = SparkSession.builder \\\n",
    "            .appName(\"DeltaLakeExample\") \\\n",
    "            .config(\"spark.jars.packages\", \"io.delta:delta-core_2.12:1.0.0\") \\\n",
    "            .config(\"spark.sql.extensions\", \"io.delta.sql.DeltaSparkSessionExtension\") \\\n",
    "            .config(\"spark.sql.catalog.spark_catalog\", \"org.apache.spark.sql.delta.catalog.DeltaCatalog\") \\\n",
    "            .getOrCreate()\n",
    "\n",
    "        spark.conf.set(\"spark.hadoop.fs.s3a.access.key\", \"datalake\")\n",
    "        spark.conf.set(\"spark.hadoop.fs.s3a.secret.key\", \"datalake\")\n",
    "        spark.conf.set(\"spark.hadoop.fs.s3a.endpoint\", \"http://minio:9000\")\n",
    "        spark.conf.set(\"spark.hadoop.fs.s3a.path.style.access\", \"true\")\n",
    "        spark.conf.set(\"spark.hadoop.fs.s3a.impl\", \"org.apache.hadoop.fs.s3a.S3AFileSystem\")\n",
    "        print(\"Sessão Spark criada com sucesso!\")\n",
    "\n",
    "        return spark\n",
    "    except Exception as err:\n",
    "        print(\"Something went wrong trying to create or get spark session!\")\n",
    "        print(f\"ERROR: {err}\")\n",
    "        return None"
   ]
  },
  {
   "cell_type": "code",
   "execution_count": 4,
   "id": "37717aa3-3524-4226-8d18-7baeefdf4bd8",
   "metadata": {},
   "outputs": [],
   "source": [
    "def auth_session(auth_url, apikey_param):\n",
    "    try:\n",
    "        session = requests.session()\n",
    "        session.post(auth_url, params=apikey_param)\n",
    "        return session\n",
    "    except Exception as err:\n",
    "        print(\"Something went wrong trying to authenticate session\")\n",
    "        print(f\"ERROR: {err}\")\n",
    "        return None"
   ]
  },
  {
   "cell_type": "code",
   "execution_count": 5,
   "id": "020bea89-f5eb-4da0-b352-f859f2330723",
   "metadata": {},
   "outputs": [],
   "source": [
    "def treat_raw_data(df):\n",
    "    df_exploded = df.withColumn(\"l\", explode(df.l))\n",
    "    df_semi = df_exploded.withColumn(\"vs\", explode(df_exploded.l.vs))\n",
    "    \n",
    "    df_treated = df_semi.withColumnRenamed(\"hr\", \"hora\") \\\n",
    "                  .withColumn(\"letreiro_completo\", col(\"l.c\")) \\\n",
    "                  .withColumn(\"cd_linha\", col(\"l.cl\")) \\\n",
    "                  .withColumn(\"sentido\", col(\"l.sl\")) \\\n",
    "                  .withColumn(\"letreiro_destino\", col(\"l.lt0\")) \\\n",
    "                  .withColumn(\"letreiro_origem\", col(\"l.lt1\")) \\\n",
    "                  .withColumn(\"quantidade_veiculos\", col(\"l.qv\")) \\\n",
    "                  .withColumn(\"prefixo\", col(\"vs.p\")) \\\n",
    "                  .withColumn(\"flag_acessivel\", col(\"vs.a\")) \\\n",
    "                  .withColumn(\"utc\", col(\"vs.ta\")) \\\n",
    "                  .withColumn(\"latitude_veiculo\", col(\"vs.py\")) \\\n",
    "                  .withColumn(\"longitude_veiculo\", col(\"vs.px\"))\n",
    "\n",
    "    return df_treated.drop(\"l\",\"vs\")   "
   ]
  },
  {
   "cell_type": "code",
   "execution_count": 6,
   "id": "ad6a63ec-71cf-4c00-89e0-386f4ab9121b",
   "metadata": {},
   "outputs": [],
   "source": [
    "def job():\n",
    "    spark = init_spark_session()\n",
    "    url = 'http://api.olhovivo.sptrans.com.br/v2.1/Login/Autenticar'\n",
    "    apikey = {'token': \"4878e23ec08fc0d75b1f6c39301e58c8c3a741b5f21dd1221ebacf87225e1cf5\"} \n",
    "    session = auth_session(url, apikey)\n",
    "\n",
    "    response = session.get('http://api.olhovivo.sptrans.com.br/v2.1/Posicao')\n",
    "    json_rdd = spark.sparkContext.parallelize([response.text])\n",
    "    df = spark.read.json(json_rdd)\n",
    "    df = treat_raw_data(df)\n",
    "\n",
    "    df.write.format(\"delta\").mode(\"append\").save(\"s3a://raw/position\")"
   ]
  },
  {
   "cell_type": "code",
   "execution_count": 7,
   "id": "b5b81348-9d2b-43c6-99f8-c053a79c06e9",
   "metadata": {},
   "outputs": [],
   "source": [
    "# schedule.every(1).minutes.do(job)\n",
    "\n",
    "# while True:\n",
    "#     schedule.run_pending()\n",
    "#     time.sleep(1)"
   ]
  },
  {
   "cell_type": "code",
   "execution_count": 8,
   "id": "82295171-d95b-4631-95b1-b93527c70374",
   "metadata": {},
   "outputs": [
    {
     "name": "stdout",
     "output_type": "stream",
     "text": [
      "Sessão Spark criada com sucesso!\n"
     ]
    }
   ],
   "source": [
    "job()"
   ]
  },
  {
   "cell_type": "code",
   "execution_count": 9,
   "id": "e6d46766-24ce-41fc-a815-575fbb7229f0",
   "metadata": {},
   "outputs": [
    {
     "name": "stdout",
     "output_type": "stream",
     "text": [
      "Sessão Spark criada com sucesso!\n",
      "dados escritos na camada raw!\n"
     ]
    }
   ],
   "source": [
    "spark = init_spark_session()\n",
    "df = spark.read.format(\"delta\").load(\"s3a://raw/position\")\n",
    "print(\"dados escritos na camada raw!\")"
   ]
  }
 ],
 "metadata": {
  "kernelspec": {
   "display_name": "Python 3 (ipykernel)",
   "language": "python",
   "name": "python3"
  },
  "language_info": {
   "codemirror_mode": {
    "name": "ipython",
    "version": 3
   },
   "file_extension": ".py",
   "mimetype": "text/x-python",
   "name": "python",
   "nbconvert_exporter": "python",
   "pygments_lexer": "ipython3",
   "version": "3.10.8"
  }
 },
 "nbformat": 4,
 "nbformat_minor": 5
}
