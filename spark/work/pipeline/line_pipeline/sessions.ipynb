{
 "cells": [
  {
   "cell_type": "code",
   "execution_count": 2,
   "id": "473fdac8-e269-4de0-a9f9-244e6911a0fc",
   "metadata": {},
   "outputs": [],
   "source": [
    "import requests\n",
    "from pyspark.sql import SparkSession"
   ]
  },
  {
   "cell_type": "code",
   "execution_count": 4,
   "id": "baa90773-7423-4690-8f48-1760e424b5f2",
   "metadata": {},
   "outputs": [],
   "source": [
    "def auth_session():\n",
    "    url = 'http://api.olhovivo.sptrans.com.br/v2.1/Login/Autenticar'\n",
    "    apikey = {'token': \"4878e23ec08fc0d75b1f6c39301e58c8c3a741b5f21dd1221ebacf87225e1cf5\"} \n",
    "    try:\n",
    "        session = requests.session()\n",
    "        session.post(url, params=apikey)\n",
    "        return session\n",
    "    except Exception as err:\n",
    "        print(f\"Erro ao autenticar na url {auth_url}\")\n",
    "        print(f\"Erro: {err}\")\n",
    "        return None"
   ]
  },
  {
   "cell_type": "code",
   "execution_count": 5,
   "id": "6e5cc7a1-589a-4782-8f5d-853fb1575b66",
   "metadata": {},
   "outputs": [],
   "source": [
    "def get_or_create_session_spark(session_name):    \n",
    "    try:\n",
    "        spark = SparkSession.builder \\\n",
    "            .appName(session_name) \\\n",
    "            .config(\"spark.jars.packages\", \"org.postgresql:postgresql:42.2.20\") \\\n",
    "            .config(\"spark.jars.packages\", \"io.delta:delta-core_2.12:1.0.0\") \\\n",
    "            .config(\"spark.sql.extensions\", \"io.delta.sql.DeltaSparkSessionExtension\") \\\n",
    "            .config(\"spark.sql.catalog.spark_catalog\", \"org.apache.spark.sql.delta.catalog.DeltaCatalog\") \\\n",
    "            .config(\"spark.hadoop.fs.s3a.access.key\", \"datalake\") \\\n",
    "            .config(\"spark.hadoop.fs.s3a.secret.key\", \"datalake\") \\\n",
    "            .config(\"spark.hadoop.fs.s3a.endpoint\", \"http://minio:9000\") \\\n",
    "            .config(\"spark.hadoop.fs.s3a.path.style.access\", \"true\") \\\n",
    "            .config(\"spark.hadoop.fs.s3a.impl\", \"org.apache.hadoop.fs.s3a.S3AFileSystem\") \\\n",
    "            .getOrCreate()\n",
    "            \n",
    "        print(f\"Sessão Spark criada com sucesso! {session_name}\")\n",
    "        return spark\n",
    "    except Exception as err:\n",
    "        print(f\"Erro ao criar a sessão SPARK! {session_name}\")\n",
    "        print(f\"Erro Sessão SPARK: {err}\")\n",
    "        return None"
   ]
  }
 ],
 "metadata": {
  "kernelspec": {
   "display_name": "Python 3 (ipykernel)",
   "language": "python",
   "name": "python3"
  },
  "language_info": {
   "codemirror_mode": {
    "name": "ipython",
    "version": 3
   },
   "file_extension": ".py",
   "mimetype": "text/x-python",
   "name": "python",
   "nbconvert_exporter": "python",
   "pygments_lexer": "ipython3",
   "version": "3.10.8"
  }
 },
 "nbformat": 4,
 "nbformat_minor": 5
}
