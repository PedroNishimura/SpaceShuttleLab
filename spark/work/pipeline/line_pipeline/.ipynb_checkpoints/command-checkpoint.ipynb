{
 "cells": [
  {
   "cell_type": "code",
   "execution_count": 1,
   "id": "4228d4f5-44c6-4731-bb7a-ecd41fafa5ad",
   "metadata": {},
   "outputs": [],
   "source": [
    "%run ./pipeline_raw.ipynb"
   ]
  },
  {
   "cell_type": "code",
   "execution_count": 2,
   "id": "bf4ee47c-c34d-49ba-8ba6-6b2045167135",
   "metadata": {},
   "outputs": [],
   "source": [
    "%run ./pipeline_trusted.ipynb"
   ]
  },
  {
   "cell_type": "code",
   "execution_count": 3,
   "id": "8c758295-3f31-48f7-8d11-92a1a87a53f4",
   "metadata": {},
   "outputs": [
    {
     "name": "stdout",
     "output_type": "stream",
     "text": [
      "Requirement already satisfied: schedule in /opt/conda/lib/python3.10/site-packages (1.2.2)\n"
     ]
    }
   ],
   "source": [
    "!pip install schedule"
   ]
  },
  {
   "cell_type": "code",
   "execution_count": 4,
   "id": "cd04f2f6-3595-4197-a644-9b27fbcbc432",
   "metadata": {},
   "outputs": [],
   "source": [
    "import schedule\n",
    "import time"
   ]
  },
  {
   "cell_type": "code",
   "execution_count": 5,
   "id": "275f3a38-e6f7-4eae-acf4-70b5c3ba6c28",
   "metadata": {},
   "outputs": [],
   "source": [
    "def job():\n",
    "    run_position_job_1726()\n",
    "    run_position_job_2607()\n",
    "    run_position_job_34494()\n",
    "    run_position_job_35375()\n",
    "    run_line_trusted_job()\n",
    "    "
   ]
  },
  {
   "cell_type": "code",
   "execution_count": null,
   "id": "ab0a808b-bd1a-4067-9258-c742e4f4a2f6",
   "metadata": {},
   "outputs": [],
   "source": [
    "schedule.every(1).minutes.do(job)\n",
    "\n",
    "while True:\n",
    "    schedule.run_pending()\n",
    "    time.sleep(1)"
   ]
  }
 ],
 "metadata": {
  "kernelspec": {
   "display_name": "Python 3 (ipykernel)",
   "language": "python",
   "name": "python3"
  },
  "language_info": {
   "codemirror_mode": {
    "name": "ipython",
    "version": 3
   },
   "file_extension": ".py",
   "mimetype": "text/x-python",
   "name": "python",
   "nbconvert_exporter": "python",
   "pygments_lexer": "ipython3",
   "version": "3.10.8"
  }
 },
 "nbformat": 4,
 "nbformat_minor": 5
}
