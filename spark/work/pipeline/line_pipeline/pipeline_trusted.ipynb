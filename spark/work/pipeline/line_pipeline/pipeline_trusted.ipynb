{
 "cells": [
  {
   "cell_type": "code",
   "execution_count": 1,
   "id": "e671c4e4-e507-4ee2-928e-46791217ae50",
   "metadata": {},
   "outputs": [],
   "source": [
    "%run ./sessions.ipynb"
   ]
  },
  {
   "cell_type": "code",
   "execution_count": 2,
   "id": "3e241c53-ab98-4458-b5c9-6178c727a627",
   "metadata": {},
   "outputs": [],
   "source": [
    "from pyspark.sql.functions import explode, col"
   ]
  },
  {
   "cell_type": "code",
   "execution_count": 3,
   "id": "b643d724-82f5-4c49-b660-6b5b1dd104c5",
   "metadata": {},
   "outputs": [],
   "source": [
    "def explode_data(df):\n",
    "    df = df.withColumn(\"l\", explode(df.l))\n",
    "    return df.withColumn(\"vs\", explode(df.l.vs))"
   ]
  },
  {
   "cell_type": "code",
   "execution_count": 2,
   "id": "9e63a425-0088-449d-bc90-98edbf5b950e",
   "metadata": {},
   "outputs": [],
   "source": [
    "def output_formatter(df):\n",
    "    return df.withColumnRenamed(\"cl\", \"codigo_linha\") \\\n",
    "             .withColumnRenamed(\"lc\", \"modo_circular\") \\\n",
    "             .withColumnRenamed(\"lt\", \"primeira_parte_letreiro\") \\\n",
    "             .withColumnRenamed(\"tl\", \"segunda_parte_letreiro\") \\\n",
    "             .withColumnRenamed(\"sl\", \"sentido_operacao\") \\\n",
    "             .withColumnRenamed(\"tp\", \"letreiro_terminal_principal\") \\\n",
    "             .withColumnRenamed(\"ts\", \"letreiro_terminal_secundario\")"
   ]
  },
  {
   "cell_type": "code",
   "execution_count": 5,
   "id": "43bd5eb1-75db-43d5-9520-3289909996cc",
   "metadata": {},
   "outputs": [],
   "source": [
    "def run_line_trusted_job():\n",
    "    print(\"Obtendo sessão spark e lendo os dados da Raw.\")\n",
    "    spark = get_or_create_session_spark(\"space_shuttle\")\n",
    "    df = spark.read.format(\"delta\").load(\"s3a://raw/line\")\n",
    "    print(f\"Dados lidos! Tamanho do dataframe {df.count()}\")\n",
    "    \n",
    "    if df != None or df.count() == 0:\n",
    "        print(\"Iniciando a formatação dos dados.\")\n",
    "        df = output_formatter(df)\n",
    "        print(\"Dados formatados!\")\n",
    "        \n",
    "        print(\"Realizando a escrita dos dados na camada Trusted.\")\n",
    "        df.write.format(\"delta\").mode(\"overwrite\").save(\"s3a://trusted/line\")\n",
    "        print(\"Processamento raw to trusted finalizado com sucesso!\")\n",
    "    else:\n",
    "        print(\"Dados não encontrados!\")\n",
    "    "
   ]
  }
 ],
 "metadata": {
  "kernelspec": {
   "display_name": "Python 3 (ipykernel)",
   "language": "python",
   "name": "python3"
  },
  "language_info": {
   "codemirror_mode": {
    "name": "ipython",
    "version": 3
   },
   "file_extension": ".py",
   "mimetype": "text/x-python",
   "name": "python",
   "nbconvert_exporter": "python",
   "pygments_lexer": "ipython3",
   "version": "3.10.8"
  }
 },
 "nbformat": 4,
 "nbformat_minor": 5
}
