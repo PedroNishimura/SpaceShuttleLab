{
 "cells": [
  {
   "cell_type": "code",
   "execution_count": 1,
   "id": "9f0287c2-a6c0-4010-b48d-0cb70cd920b1",
   "metadata": {},
   "outputs": [],
   "source": [
    "%run ./sessions.ipynb"
   ]
  },
  {
   "cell_type": "code",
   "execution_count": 2,
   "id": "0492851f-6e9a-4287-af77-bf9d15401021",
   "metadata": {},
   "outputs": [],
   "source": [
    "def run_position_job_1726():\n",
    "    try:\n",
    "        print(\"processando o job 1726\")\n",
    "        api_session = auth_session()\n",
    "        response = api_session.get('http://api.olhovivo.sptrans.com.br/v2.1/Linha/Buscar?termosBusca=1726')\n",
    "        \n",
    "        spark = get_or_create_session_spark(\"line_pipeline\")\n",
    "        json_rdd = spark.sparkContext.parallelize([response.text])\n",
    "        df = spark.read.json(json_rdd)\n",
    "        df.write.format(\"delta\").mode(\"append\").save(\"s3a://raw/line\")  \n",
    "        print(\"processamento finalizado job 1726\")\n",
    "    except Exception as err:\n",
    "        print(\"Não foi possível realizar a ingestão!\")\n",
    "        print(f\"Erro: {err}\") \n"
   ]
  },
  {
   "cell_type": "code",
   "execution_count": 3,
   "id": "be86de58-9826-445f-906f-959131d462e2",
   "metadata": {},
   "outputs": [],
   "source": [
    "def run_position_job_2607():\n",
    "    try:\n",
    "        print(\"processando o job 2607\")\n",
    "        api_session = auth_session()\n",
    "        response = api_session.get('http://api.olhovivo.sptrans.com.br/v2.1/Linha/Buscar?termosBusca=2607')\n",
    "        \n",
    "        spark = get_or_create_session_spark(\"line_pipeline\")\n",
    "        json_rdd = spark.sparkContext.parallelize([response.text])\n",
    "        df = spark.read.json(json_rdd)\n",
    "        df.write.format(\"delta\").mode(\"append\").save(\"s3a://raw/line\") \n",
    "        print(\"processamento finalizado job 2607\")\n",
    "    except Exception as err:\n",
    "        print(\"Não foi possível realizar a ingestão!\")\n",
    "        print(f\"Erro: {err}\") \n"
   ]
  },
  {
   "cell_type": "code",
   "execution_count": 4,
   "id": "4071a83f-9770-4ee7-8da5-a62c758deb0c",
   "metadata": {},
   "outputs": [],
   "source": [
    "def run_position_job_34494():\n",
    "    try:\n",
    "        print(\"processando o job 34494\")\n",
    "        api_session = auth_session()\n",
    "        response = api_session.get('http://api.olhovivo.sptrans.com.br/v2.1/Linha/Buscar?termosBusca=34494')\n",
    "        \n",
    "        spark = get_or_create_session_spark(\"line_pipeline\")\n",
    "        json_rdd = spark.sparkContext.parallelize([response.text])\n",
    "        df = spark.read.json(json_rdd)\n",
    "        df.write.format(\"delta\").mode(\"append\").save(\"s3a://raw/line\")  \n",
    "        print(\"processamento finalizado job 34494\")\n",
    "    except Exception as err:\n",
    "        print(\"Não foi possível realizar a ingestão!\")\n",
    "        print(f\"Erro: {err}\") \n"
   ]
  },
  {
   "cell_type": "code",
   "execution_count": 5,
   "id": "2a7b90a2-cc81-45ed-bf54-f1b439f0b38c",
   "metadata": {},
   "outputs": [],
   "source": [
    "def run_position_job_35375():\n",
    "    try:\n",
    "        print(\"processando o job 35375\")\n",
    "        api_session = auth_session()\n",
    "        response = api_session.get('http://api.olhovivo.sptrans.com.br/v2.1/Linha/Buscar?termosBusca=35375')\n",
    "        \n",
    "        spark = get_or_create_session_spark(\"line_pipeline\")\n",
    "        json_rdd = spark.sparkContext.parallelize([response.text])\n",
    "        df = spark.read.json(json_rdd)\n",
    "        df.write.format(\"delta\").mode(\"append\").save(\"s3a://raw/line\")  \n",
    "        print(\"processamento finalizado job 35375\")\n",
    "    except Exception as err:\n",
    "        print(\"Não foi possível realizar a ingestão!\")\n",
    "        print(f\"Erro: {err}\") \n"
   ]
  }
 ],
 "metadata": {
  "kernelspec": {
   "display_name": "Python 3 (ipykernel)",
   "language": "python",
   "name": "python3"
  },
  "language_info": {
   "codemirror_mode": {
    "name": "ipython",
    "version": 3
   },
   "file_extension": ".py",
   "mimetype": "text/x-python",
   "name": "python",
   "nbconvert_exporter": "python",
   "pygments_lexer": "ipython3",
   "version": "3.10.8"
  }
 },
 "nbformat": 4,
 "nbformat_minor": 5
}
