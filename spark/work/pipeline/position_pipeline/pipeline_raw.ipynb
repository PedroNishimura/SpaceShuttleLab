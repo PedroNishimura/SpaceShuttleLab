{
 "cells": [
  {
   "cell_type": "code",
   "execution_count": 1,
   "id": "9f0287c2-a6c0-4010-b48d-0cb70cd920b1",
   "metadata": {},
   "outputs": [],
   "source": [
    "%run ./sessions.ipynb"
   ]
  },
  {
   "cell_type": "code",
   "execution_count": 4,
   "id": "0492851f-6e9a-4287-af77-bf9d15401021",
   "metadata": {},
   "outputs": [],
   "source": [
    "def run_position_job():\n",
    "    try:\n",
    "        api_session = auth_session()\n",
    "        response = api_session.get('http://api.olhovivo.sptrans.com.br/v2.1/Posicao')\n",
    "        \n",
    "        spark = get_or_create_session_spark(\"space_shuttle\")\n",
    "        json_rdd = spark.sparkContext.parallelize([response.text])\n",
    "        df = spark.read.json(json_rdd)\n",
    "        df.write.format(\"delta\").mode(\"overwrite\").save(\"s3a://raw/position\")  \n",
    "    except Exception as err:\n",
    "        print(\"Não foi possível realizar a ingestão!\")\n",
    "        print(f\"Erro: {err}\") \n"
   ]
  }
 ],
 "metadata": {
  "kernelspec": {
   "display_name": "Python 3 (ipykernel)",
   "language": "python",
   "name": "python3"
  },
  "language_info": {
   "codemirror_mode": {
    "name": "ipython",
    "version": 3
   },
   "file_extension": ".py",
   "mimetype": "text/x-python",
   "name": "python",
   "nbconvert_exporter": "python",
   "pygments_lexer": "ipython3",
   "version": "3.10.8"
  }
 },
 "nbformat": 4,
 "nbformat_minor": 5
}
