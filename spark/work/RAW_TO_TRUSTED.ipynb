{
 "cells": [
  {
   "cell_type": "code",
   "execution_count": 1,
   "id": "cfded94e-7d1c-483d-9653-8ab97bfa4fe5",
   "metadata": {},
   "outputs": [],
   "source": [
    "from pyspark.sql import SparkSession"
   ]
  },
  {
   "cell_type": "code",
   "execution_count": 3,
   "id": "ac12cdbf-c1d9-4de8-a440-ae0ce9a2760f",
   "metadata": {},
   "outputs": [],
   "source": [
    "spark = SparkSession.builder \\\n",
    "    .appName('USER_ROW_TO_TRUSTED') \\\n",
    "    .config('spark.sql.extensions', 'io.delta.sql.DeltaSparkSessionExtension') \\\n",
    "    .config('spark.sql.catalog.spark_catalog', 'org.apache.spark.sql.delta.catalog.DeltaCatalog') \\\n",
    "    .getOrCreate()"
   ]
  },
  {
   "cell_type": "code",
   "execution_count": 5,
   "id": "4a897419-8b3c-4fcc-9167-627cda61962b",
   "metadata": {},
   "outputs": [
    {
     "data": {
      "text/html": [
       "\n",
       "            <div>\n",
       "                <p><b>SparkSession - in-memory</b></p>\n",
       "                \n",
       "        <div>\n",
       "            <p><b>SparkContext</b></p>\n",
       "\n",
       "            <p><a href=\"http://spark-master:4040\">Spark UI</a></p>\n",
       "\n",
       "            <dl>\n",
       "              <dt>Version</dt>\n",
       "                <dd><code>v3.3.1</code></dd>\n",
       "              <dt>Master</dt>\n",
       "                <dd><code>local[*]</code></dd>\n",
       "              <dt>AppName</dt>\n",
       "                <dd><code>USER_ROW_TO_TRUSTED</code></dd>\n",
       "            </dl>\n",
       "        </div>\n",
       "        \n",
       "            </div>\n",
       "        "
      ],
      "text/plain": [
       "<pyspark.sql.session.SparkSession at 0x7f5b59b050c0>"
      ]
     },
     "execution_count": 5,
     "metadata": {},
     "output_type": "execute_result"
    }
   ],
   "source": [
    "spark"
   ]
  },
  {
   "cell_type": "code",
   "execution_count": 6,
   "id": "b8dbc946-063c-490a-aeb7-6af40fcde58c",
   "metadata": {},
   "outputs": [],
   "source": [
    "raw = 's3a://raw/users'\n",
    "trusted = 's3a://trusted/users'"
   ]
  },
  {
   "cell_type": "code",
   "execution_count": 7,
   "id": "cac5bc04-420f-461a-8697-6435b3de67b1",
   "metadata": {},
   "outputs": [],
   "source": [
    "df_raw = spark.read.json(raw)"
   ]
  },
  {
   "cell_type": "code",
   "execution_count": 10,
   "id": "04e9eeef-67d6-424a-a03c-fcf78421b886",
   "metadata": {},
   "outputs": [],
   "source": [
    "df_filter = df_raw.select('id', 'first_name', 'last_name', 'username', 'email')"
   ]
  },
  {
   "cell_type": "code",
   "execution_count": 11,
   "id": "f0fdd2b2-cfbd-48fd-b0a5-497bc2040163",
   "metadata": {},
   "outputs": [
    {
     "name": "stdout",
     "output_type": "stream",
     "text": [
      "+----+----------+---------+-----------------+--------------------+\n",
      "|  id|first_name|last_name|         username|               email|\n",
      "+----+----------+---------+-----------------+--------------------+\n",
      "|4127|   Marlana|Abernathy|marlana.abernathy|marlana.abernathy...|\n",
      "|8081|  Epifania|    Koepp|   epifania.koepp|epifania.koepp@em...|\n",
      "|3631|     Tyler|    Crist|      tyler.crist|tyler.crist@email...|\n",
      "|6918|   Hershel|    Berge|    hershel.berge|hershel.berge@ema...|\n",
      "|9805|    Luther|     Dare|      luther.dare|luther.dare@email...|\n",
      "|9034|      Beau|   Sawayn|      beau.sawayn|beau.sawayn@email...|\n",
      "|6668|      Noel|   Hirthe|      noel.hirthe|noel.hirthe@email...|\n",
      "+----+----------+---------+-----------------+--------------------+\n",
      "\n"
     ]
    }
   ],
   "source": [
    "df_filter.show()"
   ]
  },
  {
   "cell_type": "code",
   "execution_count": 12,
   "id": "920b1649-e07b-48eb-936f-817de3848ddb",
   "metadata": {},
   "outputs": [],
   "source": [
    "from delta.tables import DeltaTable"
   ]
  },
  {
   "cell_type": "code",
   "execution_count": 14,
   "id": "92ad7759-fa6f-46e6-9d7a-4ebf2cb2b9e9",
   "metadata": {},
   "outputs": [],
   "source": [
    "if not DeltaTable.isDeltaTable(spark, trusted):\n",
    "    df_filter.write.format('delta').mode('append').save(trusted)"
   ]
  },
  {
   "cell_type": "code",
   "execution_count": 15,
   "id": "4a5ae9e4-85c2-4a88-bf55-7be35a4f6105",
   "metadata": {},
   "outputs": [],
   "source": [
    "delta_table  = DeltaTable.forPath(spark, trusted)"
   ]
  },
  {
   "cell_type": "code",
   "execution_count": 16,
   "id": "5dedade8-1f1f-4932-a18b-b11aaa109e5d",
   "metadata": {},
   "outputs": [],
   "source": [
    "delta_table.alias('trusted') \\\n",
    "    .merge(df_filter.alias('raw'), 'trusted.id = raw.id') \\\n",
    "    .whenMatchedUpdateAll() \\\n",
    "    .whenNotMatchedInsertAll() \\\n",
    "    .execute()\n",
    "        "
   ]
  },
  {
   "cell_type": "code",
   "execution_count": 17,
   "id": "fa50d655-01c7-4575-a3af-0aab8b2c68d1",
   "metadata": {},
   "outputs": [],
   "source": [
    "df_parquet = spark.read.parquet(trusted)"
   ]
  },
  {
   "cell_type": "code",
   "execution_count": 18,
   "id": "705ff84a-9d17-4252-9c56-ac4134b864ed",
   "metadata": {},
   "outputs": [
    {
     "data": {
      "text/plain": [
       "14"
      ]
     },
     "execution_count": 18,
     "metadata": {},
     "output_type": "execute_result"
    }
   ],
   "source": [
    "df_parquet.count()"
   ]
  },
  {
   "cell_type": "code",
   "execution_count": 19,
   "id": "f5a613cb-0ed5-4ce1-ba3a-74f6c484fc4d",
   "metadata": {},
   "outputs": [],
   "source": [
    "dt = DeltaTable.forPath(spark, trusted)"
   ]
  },
  {
   "cell_type": "code",
   "execution_count": 20,
   "id": "4bccd5c1-16e2-4e42-9785-00008a33497f",
   "metadata": {},
   "outputs": [
    {
     "data": {
      "text/plain": [
       "7"
      ]
     },
     "execution_count": 20,
     "metadata": {},
     "output_type": "execute_result"
    }
   ],
   "source": [
    "dt.toDF().count()"
   ]
  },
  {
   "cell_type": "code",
   "execution_count": 21,
   "id": "b391ca08-8fbb-401a-b71a-dd0f9fb56cda",
   "metadata": {},
   "outputs": [],
   "source": [
    "df_teste = spark.read.parquet('s3a://trusted/users/part-00000-919f7f90-1193-4a5b-b1b8-e13d9994e5f7-c000.snappy.parquet')"
   ]
  },
  {
   "cell_type": "code",
   "execution_count": 23,
   "id": "830d10a1-0f5e-45f6-9c67-e635d8f3028a",
   "metadata": {},
   "outputs": [
    {
     "data": {
      "text/plain": [
       "7"
      ]
     },
     "execution_count": 23,
     "metadata": {},
     "output_type": "execute_result"
    }
   ],
   "source": [
    "df_teste.count()"
   ]
  }
 ],
 "metadata": {
  "kernelspec": {
   "display_name": "Python 3 (ipykernel)",
   "language": "python",
   "name": "python3"
  },
  "language_info": {
   "codemirror_mode": {
    "name": "ipython",
    "version": 3
   },
   "file_extension": ".py",
   "mimetype": "text/x-python",
   "name": "python",
   "nbconvert_exporter": "python",
   "pygments_lexer": "ipython3",
   "version": "3.10.8"
  }
 },
 "nbformat": 4,
 "nbformat_minor": 5
}
